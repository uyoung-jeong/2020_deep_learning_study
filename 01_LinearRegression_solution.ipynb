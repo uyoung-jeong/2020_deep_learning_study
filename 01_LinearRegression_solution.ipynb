{
  "nbformat": 4,
  "nbformat_minor": 0,
  "metadata": {
    "colab": {
      "name": "01-LinearRegression-solution.ipynb",
      "provenance": [],
      "collapsed_sections": [],
      "include_colab_link": true
    },
    "kernelspec": {
      "name": "python3",
      "display_name": "Python 3"
    }
  },
  "cells": [
    {
      "cell_type": "markdown",
      "metadata": {
        "id": "view-in-github",
        "colab_type": "text"
      },
      "source": [
        "<a href=\"https://colab.research.google.com/github/uyoung-jeong/2020_deep_learning_study/blob/master/01_LinearRegression_solution.ipynb\" target=\"_parent\"><img src=\"https://colab.research.google.com/assets/colab-badge.svg\" alt=\"Open In Colab\"/></a>"
      ]
    },
    {
      "cell_type": "code",
      "metadata": {
        "id": "Bc6HAfS-hcKK",
        "colab_type": "code",
        "colab": {}
      },
      "source": [
        "from sklearn.datasets import make_regression\n",
        "from matplotlib import pyplot as plt\n",
        "import numpy as np\n",
        "from sklearn.linear_model import LinearRegression, Ridge\n",
        "import tensorflow as tf"
      ],
      "execution_count": 0,
      "outputs": []
    },
    {
      "cell_type": "code",
      "metadata": {
        "id": "01XWNP0-hmUO",
        "colab_type": "code",
        "colab": {}
      },
      "source": [
        "# generate data\n",
        "X, y, coefficients = make_regression(\n",
        "    n_samples=50,\n",
        "    n_features=1,\n",
        "    n_informative=1,\n",
        "    n_targets=1,\n",
        "    noise=5,\n",
        "    coef=True,\n",
        "    random_state=1\n",
        ")"
      ],
      "execution_count": 0,
      "outputs": []
    },
    {
      "cell_type": "code",
      "metadata": {
        "id": "q5j87FYB_-TJ",
        "colab_type": "code",
        "colab": {}
      },
      "source": [
        "# Visualization function\n",
        "def plot_data(X,y,w):\n",
        "  plt.scatter(X, y) # show original data\n",
        "  plt.plot(X, w*X, c='red') # use solution\n",
        "  plt.show()"
      ],
      "execution_count": 0,
      "outputs": []
    },
    {
      "cell_type": "code",
      "metadata": {
        "id": "Ziw99Gy8ho09",
        "colab_type": "code",
        "outputId": "0dcfb421-06a6-48b7-afbc-27bccd795e22",
        "colab": {
          "base_uri": "https://localhost:8080/",
          "height": 53
        }
      },
      "source": [
        "# store the rank and the numer of columns of the matrix\n",
        "n = X.shape[1] # number of columns\n",
        "r = np.linalg.matrix_rank(X) # rank\n",
        "\n",
        "# use singular value decomposition\n",
        "U, sigma, VT = np.linalg.svd(X, full_matrices=False)\n",
        "V = VT.T\n",
        "\n",
        "# derive D^+ from sigma\n",
        "D_plus = np.diag(np.hstack([1/sigma[:r], np.zeros(n-r)]))\n",
        "\n",
        "# moore-penrose pseudoinverse of X\n",
        "X_plus = V.dot(D_plus).dot(U.T)\n",
        "\n",
        "w = X_plus.dot(y)\n",
        "\n",
        "error = np.linalg.norm(X.dot(w) - y, ord=2) ** 2\n",
        "\n",
        "print('w: {}'.format(w))\n",
        "print('error: {}'.format(error))"
      ],
      "execution_count": 0,
      "outputs": [
        {
          "output_type": "stream",
          "text": [
            "w: [89.22901347]\n",
            "error: 888.9637001387936\n"
          ],
          "name": "stdout"
        }
      ]
    },
    {
      "cell_type": "code",
      "metadata": {
        "id": "xYj5cBKThs51",
        "colab_type": "code",
        "outputId": "1a48339f-2a1e-4bcf-ce1a-7a25e0b5345f",
        "colab": {
          "base_uri": "https://localhost:8080/",
          "height": 127
        }
      },
      "source": [
        "# numpy function to get least squares solution\n",
        "solution, residuals, rank, singular = np.linalg.lstsq(X, y)\n",
        "print('w: {}'.format(solution))\n",
        "print('error: {}'.format(residuals))\n",
        "np_w = w"
      ],
      "execution_count": 0,
      "outputs": [
        {
          "output_type": "stream",
          "text": [
            "w: [89.22901347]\n",
            "error: [888.96370014]\n"
          ],
          "name": "stdout"
        },
        {
          "output_type": "stream",
          "text": [
            "/usr/local/lib/python3.6/dist-packages/ipykernel_launcher.py:1: FutureWarning: `rcond` parameter will change to the default of machine precision times ``max(M, N)`` where M and N are the input matrix dimensions.\n",
            "To use the future default and silence this warning we advise to pass `rcond=None`, to keep using the old, explicitly pass `rcond=-1`.\n",
            "  \"\"\"Entry point for launching an IPython kernel.\n"
          ],
          "name": "stderr"
        }
      ]
    },
    {
      "cell_type": "code",
      "metadata": {
        "id": "jsczLda_huMN",
        "colab_type": "code",
        "outputId": "0cc4e006-db6c-41d7-9375-fb6665116d3c",
        "colab": {
          "base_uri": "https://localhost:8080/",
          "height": 266
        }
      },
      "source": [
        "# visualization\n",
        "plot_data(X,y,w)"
      ],
      "execution_count": 0,
      "outputs": [
        {
          "output_type": "display_data",
          "data": {
            "image/png": "[encoded data removed]",
            "text/plain": [
              "<Figure size 432x288 with 1 Axes>"
            ]
          },
          "metadata": {
            "tags": []
          }
        }
      ]
    },
    {
      "cell_type": "code",
      "metadata": {
        "id": "GCktpM7NhwZ-",
        "colab_type": "code",
        "outputId": "d597e3ee-691f-41fe-ea26-d5e83c0e40c7",
        "colab": {
          "base_uri": "https://localhost:8080/",
          "height": 284
        }
      },
      "source": [
        "# using scikit-learn implementation of linear regression\n",
        "lr = LinearRegression()\n",
        "lr.fit(X, y)\n",
        "w = lr.coef_[0]\n",
        "print('w: {}'.format(w))\n",
        "sk_w = w\n",
        "\n",
        "# plot line\n",
        "plot_data(X,y,w)"
      ],
      "execution_count": 0,
      "outputs": [
        {
          "output_type": "stream",
          "text": [
            "w: 89.25863635216471\n"
          ],
          "name": "stdout"
        },
        {
          "output_type": "display_data",
          "data": {
            "image/png": "[encoded data removed]",
            "text/plain": [
              "<Figure size 432x288 with 1 Axes>"
            ]
          },
          "metadata": {
            "tags": []
          }
        }
      ]
    },
    {
      "cell_type": "code",
      "metadata": {
        "id": "wTFkrkp73xBZ",
        "colab_type": "code",
        "outputId": "f8ea7d6d-29db-47c9-aa8c-874ccd9b32f8",
        "colab": {
          "base_uri": "https://localhost:8080/",
          "height": 302
        }
      },
      "source": [
        "# Ridge regression\n",
        "alpha = 10 # regularization strength\n",
        "rr = Ridge(alpha=alpha)\n",
        "rr.fit(X,y)\n",
        "w = rr.coef_[0]\n",
        "print('coef: {}'.format(rr.coef_))\n",
        "print('w: {}'.format(w))\n",
        "sk_ridge_w = w\n",
        "\n",
        "# plot line\n",
        "plot_data(X,y,w)"
      ],
      "execution_count": 0,
      "outputs": [
        {
          "output_type": "stream",
          "text": [
            "coef: [73.60064637]\n",
            "w: 73.60064636569076\n"
          ],
          "name": "stdout"
        },
        {
          "output_type": "display_data",
          "data": {
            "image/png": "[encoded data removed]",
            "text/plain": [
              "<Figure size 432x288 with 1 Axes>"
            ]
          },
          "metadata": {
            "tags": []
          }
        }
      ]
    },
    {
      "cell_type": "code",
      "metadata": {
        "id": "hJ3JtuVA4Tb8",
        "colab_type": "code",
        "outputId": "7dffef1a-2646-4d05-d76d-f5cd7c917bbb",
        "colab": {
          "base_uri": "https://localhost:8080/",
          "height": 302
        }
      },
      "source": [
        "# Tensorflow implementation\n",
        "X_tf = tf.convert_to_tensor(X)\n",
        "y_tf = tf.convert_to_tensor(np.expand_dims(y, axis=1))\n",
        "tf_alpha = 0\n",
        "output_fast = tf.linalg.lstsq(X_tf, y_tf, l2_regularizer=tf_alpha, fast=True)\n",
        "output_not_fast = tf.linalg.lstsq(X_tf, y_tf, l2_regularizer=tf_alpha, fast=False)\n",
        "\n",
        "with tf.Session():\n",
        "  output = output_fast.eval()\n",
        "  print('fast method: {}'.format(output.flatten()))\n",
        "  output = output_not_fast.eval()\n",
        "  print('not-fast method: {}'.format(output.flatten()))\n",
        "  w = output.flatten()\n",
        "plot_data(X,y,w)\n"
      ],
      "execution_count": 0,
      "outputs": [
        {
          "output_type": "stream",
          "text": [
            "fast method: [89.22901347]\n",
            "not-fast method: [89.22901347]\n"
          ],
          "name": "stdout"
        },
        {
          "output_type": "display_data",
          "data": {
            "image/png": "[encoded data removed]",
            "text/plain": [
              "<Figure size 432x288 with 1 Axes>"
            ]
          },
          "metadata": {
            "tags": []
          }
        }
      ]
    }
  ]
}